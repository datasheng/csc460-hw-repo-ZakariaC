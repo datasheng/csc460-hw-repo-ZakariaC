{
 "cells": [
  {
   "cell_type": "markdown",
   "id": "449e0fff",
   "metadata": {},
   "source": [
    "Install ipykernel beforehand\n",
    "Import dependencies to run in .ipynb, including pandas, beautifulsoup4, requests."
   ]
  },
  {
   "cell_type": "code",
   "execution_count": null,
   "id": "14734aa2",
   "metadata": {},
   "outputs": [],
   "source": [
    "import pandas as pd\n",
    "from bs4 import BeautifulSoup\n",
    "import requests"
   ]
  },
  {
   "cell_type": "markdown",
   "id": "b49962b4",
   "metadata": {},
   "source": [
    "Obtain all the HTML code from the page using requests library"
   ]
  },
  {
   "cell_type": "code",
   "execution_count": null,
   "id": "45c4cdd1",
   "metadata": {},
   "outputs": [],
   "source": [
    "# Use GET request at the URL and obtain the html code\n",
    "url = 'https://www.ccny.cuny.edu/registrar/fall'\n",
    "r = requests.get(url)\n",
    "html_doc = r.text\n",
    "# Insert html_doc to BeautifulSoup to parse later on\n",
    "soup = BeautifulSoup(html_doc)"
   ]
  },
  {
   "cell_type": "markdown",
   "id": "b107a66e",
   "metadata": {},
   "source": [
    "Obtain all `<tr>` using BeautifulSoup"
   ]
  },
  {
   "cell_type": "code",
   "execution_count": null,
   "id": "ad90adbf",
   "metadata": {},
   "outputs": [],
   "source": [
    "rows = soup.find_all('tr')"
   ]
  },
  {
   "cell_type": "markdown",
   "id": "c51a16f1",
   "metadata": {},
   "source": [
    "Initialize dictionary of lists to insert data, then convert to DataFrame in end."
   ]
  },
  {
   "cell_type": "code",
   "execution_count": null,
   "id": "1e87b1a8",
   "metadata": {},
   "outputs": [],
   "source": [
    "data = {\n",
    "    'day of the week': [],\n",
    "    'dow': [],\n",
    "    'text': []\n",
    "}"
   ]
  },
  {
   "cell_type": "markdown",
   "id": "46ed239a",
   "metadata": {},
   "source": [
    "Iterate through all `<tr>` with a for loop and break down text."
   ]
  },
  {
   "cell_type": "code",
   "execution_count": null,
   "id": "27a325d5",
   "metadata": {},
   "outputs": [],
   "source": [
    "for row in rows:\n",
    "    # Break down the three td inside of the <tr>\n",
    "    tds = row.find_all('td')\n",
    "\n",
    "    # Parse text in each of the <td>. [.get_text(strip=True) is needed to remove all the newline and whitespace]\n",
    "    day_of_week = tds[0].get_text(strip=True)\n",
    "    dow = tds[1].get_text(strip=True)\n",
    "    event_text = tds[2].get_text(strip=True)\n",
    "\n",
    "    # Append relevant data to each key\n",
    "    data['day of the week'].append(day_of_week)\n",
    "    data['dow'].append(dow) \n",
    "    data['text'].append(event_text)\n"
   ]
  },
  {
   "cell_type": "markdown",
   "id": "ea57239b",
   "metadata": {},
   "source": []
  }
 ],
 "metadata": {
  "kernelspec": {
   "display_name": "Python 3",
   "language": "python",
   "name": "python3"
  },
  "language_info": {
   "codemirror_mode": {
    "name": "ipython",
    "version": 3
   },
   "file_extension": ".py",
   "mimetype": "text/x-python",
   "name": "python",
   "nbconvert_exporter": "python",
   "pygments_lexer": "ipython3",
   "version": "3.13.0"
  }
 },
 "nbformat": 4,
 "nbformat_minor": 5
}
