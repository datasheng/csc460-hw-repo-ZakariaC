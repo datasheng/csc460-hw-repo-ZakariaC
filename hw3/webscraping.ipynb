{
 "cells": [
  {
   "cell_type": "markdown",
   "id": "449e0fff",
   "metadata": {},
   "source": [
    "Install ipykernel beforehand\n",
    "Import dependencies to run in .ipynb, including pandas, beautifulsoup4, requests."
   ]
  },
  {
   "cell_type": "code",
   "execution_count": null,
   "id": "14734aa2",
   "metadata": {},
   "outputs": [],
   "source": [
    "import pandas as pd\n",
    "from bs4 import BeautifulSoup\n",
    "import requests"
   ]
  },
  {
   "cell_type": "markdown",
   "id": "b49962b4",
   "metadata": {},
   "source": [
    "Obtain all the HTML code from the page using requests library"
   ]
  },
  {
   "cell_type": "code",
   "execution_count": null,
   "id": "45c4cdd1",
   "metadata": {},
   "outputs": [],
   "source": [
    "# Use GET request at the URL and obtain the html code\n",
    "url = 'https://www.ccny.cuny.edu/registrar/fall'\n",
    "r = requests.get(url)\n",
    "html_doc = r.text\n",
    "# Insert html_doc to BeautifulSoup to parse later on\n",
    "soup = BeautifulSoup(html_doc)"
   ]
  },
  {
   "cell_type": "markdown",
   "id": "ea57239b",
   "metadata": {},
   "source": []
  }
 ],
 "metadata": {
  "kernelspec": {
   "display_name": "Python 3",
   "language": "python",
   "name": "python3"
  },
  "language_info": {
   "codemirror_mode": {
    "name": "ipython",
    "version": 3
   },
   "file_extension": ".py",
   "mimetype": "text/x-python",
   "name": "python",
   "nbconvert_exporter": "python",
   "pygments_lexer": "ipython3",
   "version": "3.13.0"
  }
 },
 "nbformat": 4,
 "nbformat_minor": 5
}
