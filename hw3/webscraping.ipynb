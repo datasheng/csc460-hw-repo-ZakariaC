{
 "cells": [
  {
   "cell_type": "markdown",
   "id": "449e0fff",
   "metadata": {},
   "source": [
    "Install ipykernel beforehand\n",
    "Import dependencies to run in .ipynb, including pandas, beautifulsoup4, requests."
   ]
  },
  {
   "cell_type": "code",
   "execution_count": 10,
   "id": "14734aa2",
   "metadata": {},
   "outputs": [],
   "source": [
    "import pandas as pd\n",
    "from bs4 import BeautifulSoup\n",
    "import requests"
   ]
  },
  {
   "cell_type": "markdown",
   "id": "b49962b4",
   "metadata": {},
   "source": [
    "Obtain all the HTML code from the page using requests library"
   ]
  },
  {
   "cell_type": "code",
   "execution_count": 11,
   "id": "45c4cdd1",
   "metadata": {},
   "outputs": [],
   "source": [
    "# Use GET request at the URL and obtain the html code\n",
    "url = 'https://www.ccny.cuny.edu/registrar/fall'\n",
    "r = requests.get(url)\n",
    "html_doc = r.text\n",
    "# Insert html_doc to BeautifulSoup to parse later on\n",
    "soup = BeautifulSoup(html_doc)"
   ]
  },
  {
   "cell_type": "markdown",
   "id": "b107a66e",
   "metadata": {},
   "source": [
    "Obtain all `<tr>` using BeautifulSoup and remove first element to remove irrelevant `<th>`"
   ]
  },
  {
   "cell_type": "code",
   "execution_count": 18,
   "id": "ad90adbf",
   "metadata": {},
   "outputs": [],
   "source": [
    "rows = soup.find_all('tr')[1:]"
   ]
  },
  {
   "cell_type": "markdown",
   "id": "c51a16f1",
   "metadata": {},
   "source": [
    "Initialize dictionary of lists to insert data, then convert to DataFrame in end."
   ]
  },
  {
   "cell_type": "code",
   "execution_count": 19,
   "id": "1e87b1a8",
   "metadata": {},
   "outputs": [],
   "source": [
    "data = {\n",
    "    'day of the week': [],\n",
    "    'dow': [],\n",
    "    'text': []\n",
    "}"
   ]
  },
  {
   "cell_type": "markdown",
   "id": "46ed239a",
   "metadata": {},
   "source": [
    "Iterate through all `<tr>` with a for loop and break down text."
   ]
  },
  {
   "cell_type": "code",
   "execution_count": 20,
   "id": "27a325d5",
   "metadata": {},
   "outputs": [],
   "source": [
    "for row in rows:\n",
    "    # Break down the three td inside of the <tr>\n",
    "    tds = row.find_all('td')\n",
    "\n",
    "    # Parse text in each of the <td>. [.get_text(strip=True) is needed to remove all the newline and whitespace]\n",
    "    day_of_week = tds[0].get_text(strip=True)\n",
    "    dow = tds[1].get_text(strip=True)\n",
    "    event_text = tds[2].get_text(strip=True)\n",
    "\n",
    "    # Append relevant data to each key\n",
    "    data['day of the week'].append(day_of_week)\n",
    "    data['dow'].append(dow) \n",
    "    data['text'].append(event_text)\n"
   ]
  },
  {
   "cell_type": "markdown",
   "id": "786d9706",
   "metadata": {},
   "source": [
    "Convert to DataFrame and print it out"
   ]
  },
  {
   "cell_type": "code",
   "execution_count": 21,
   "id": "30570b0f",
   "metadata": {},
   "outputs": [
    {
     "name": "stdout",
     "output_type": "stream",
     "text": [
      "      day of the week                   dow  \\\n",
      "0           August 01                Sunday   \n",
      "1           August 18             Wednesday   \n",
      "2           August 24               Tuesday   \n",
      "3           August 25             Wednesday   \n",
      "4      August 25 - 31   Wednesday - Tuesday   \n",
      "5           August 26              Thursday   \n",
      "6           August 28              Saturday   \n",
      "7           August 31               Tuesday   \n",
      "8        September 01             Wednesday   \n",
      "9   September 03 - 08    Friday - Wednesday   \n",
      "10       September 06                Monday   \n",
      "11       September 09              Thursday   \n",
      "12       September 14               Tuesday   \n",
      "13       September 15             Wednesday   \n",
      "14  September 15 - 16  Wednesday - Thursday   \n",
      "15       September 23              Thursday   \n",
      "16       September 24                Friday   \n",
      "17         October 01                Friday   \n",
      "18         October 08                Friday   \n",
      "19         October 11                Monday   \n",
      "20        November 01                Monday   \n",
      "21        November 02               Tuesday   \n",
      "22        November 04              Thursday   \n",
      "23        November 06              Saturday   \n",
      "24        November 23               Tuesday   \n",
      "25   November 25 - 28     Thursday - Sunday   \n",
      "26        December 11              Saturday   \n",
      "27        December 13                Monday   \n",
      "28        December 14               Tuesday   \n",
      "29   December 15 - 21   Wednesday - Tuesday   \n",
      "30        December 21               Tuesday   \n",
      "31   December 24 - 25     Friday - Saturday   \n",
      "32        December 27                Monday   \n",
      "33        December 28               Tuesday   \n",
      "34        December 31                Friday   \n",
      "35    January 1, 2022              Saturday   \n",
      "\n",
      "                                                                                                                                                                                                                                                                                  text  \n",
      "0                                                                                                                                                                                                                          Application for degree for January and February 2022 begins  \n",
      "1                                                                                                                                                                                                                                                   Last day to apply for Study Abroad  \n",
      "2                                                                                                                                                                Last day of Registration;Last day to file ePermit for the Fall 2021;Last day to drop classes for 100% tuition refund;  \n",
      "3                                                                                                                                                                                                                 Start of Fall Term;Classes begin;Initial Registration Appeals begin;  \n",
      "4                                                                                                                                                                                                                                            Change of program period; late fees apply  \n",
      "5                                                                                                                                                                                                                                                       Last day for Independent Study  \n",
      "6                                                                                                                                                                                                                                                        First day of Saturday Classes  \n",
      "7                                 Last day to add a class to an existing enrollment;Last day for 75% tuition refund;Financial Aid Certification Enrollment Status date;Last day to apply for Audit option;Last day to drop without the grade of 'WD';Initial Registration Appeals end;  \n",
      "8                                                                                                                  Verification of Enrollment rosters available to faculty;Course Withdrawal drop period begins (A grade of 'WD' is assigned to students who officially drop a class);  \n",
      "9                                                                                                                                                                                                                                                                 No classes scheduled  \n",
      "10                                                                                                                                                                                                                                     College Closed;Last day for 50% tuition refund;  \n",
      "11                                                                                                                                                                                                                                                                Freshman Convocation  \n",
      "12  Last day for 25% tuition refund;Census date;Last day to change or declare a major/minor to be effective in Fall 2021;Last day to drop without the grade of 'W';Course Withdrawal drop period ends (Last day for 'WD' grades);Verification of Enrollment Rosters Dues from Faculty;  \n",
      "13                                                                             Assignment of 'WN' grades for non-attendance;Course Withdrawal period begins (A grade of 'W' is assigned to students who officially drop a class) - No Refund;100% Tuition obligation for course drops;  \n",
      "14                                                                                                                                                                                                                                                                No classes scheduled  \n",
      "15                                                                                                                                                                                                                         Last day to submit proof of immunization for NYS residents;  \n",
      "16                                                                                                                                                                                                                           Assignment of 'WA' grades for immunization non-compliance  \n",
      "17                                                                                                                                                                                                                              Advising month begins for Spring and Winter enrollment  \n",
      "18                                                                                                                                            Deadline for filing application for degree for January and February 2022;Last day to submit proof of immunization for non-NYS residents;  \n",
      "19                                                                                                                                                                                                                                                                      College Closed  \n",
      "20                                                                                                         'INC' grades for Spring 2021 and Winter 2021 for Undergraduate students convert to 'FIN';'INC' grades for Summer 2020 and Fall 2020 for Graduate students convert to 'FIN';  \n",
      "21                                                                                                                               Registration appointments for Winter and Spring 2022 begin for continuing students.  Check your CUNYFirst account for your appointment date and time.  \n",
      "22                                                                                                                                                                                                                                                    Last day to file for P/NC option  \n",
      "23                                                                                                                                                                                                                                                                60% Date of the term  \n",
      "24                                                                                                                                                                                                            'INC' grades for Summer 2021 for Undergraduate students convert to 'FIN'  \n",
      "25                                                                                                                                                                                                                                                                      College Closed  \n",
      "26                                                                                                                                                                                                                                                        Last day of Saturday Classes  \n",
      "27                                                                                                                                                                        Course Withdrawal period ends (Last day to withdraw from a class with the grade of 'W');Last day of Classes;  \n",
      "28                                                                                                                                                                                                                                                                         Reading Day  \n",
      "29                                                                                                                                                                                                                                                                  Final Examinations  \n",
      "30                                                                                                                                                                                                                                                                         End of Term  \n",
      "31                                                                                                                                                                                                                                                                      College Closed  \n",
      "32                                                                                                                                                                                                                                                                      College Closed  \n",
      "33                                                                                                                                                                                                                                       Final Grade Submission Deadline for Fall 2021  \n",
      "34                                                                                                                                                                                                                                                                      College Closed  \n",
      "35                                                                                                                                                                                                                                     College Closed;Fall 2021 Degree Conferral Date;  \n"
     ]
    }
   ],
   "source": [
    "df = pd.DataFrame(data)\n",
    "\n",
    "print(df)"
   ]
  },
  {
   "cell_type": "markdown",
   "id": "ea57239b",
   "metadata": {},
   "source": []
  }
 ],
 "metadata": {
  "kernelspec": {
   "display_name": "Python 3",
   "language": "python",
   "name": "python3"
  },
  "language_info": {
   "codemirror_mode": {
    "name": "ipython",
    "version": 3
   },
   "file_extension": ".py",
   "mimetype": "text/x-python",
   "name": "python",
   "nbconvert_exporter": "python",
   "pygments_lexer": "ipython3",
   "version": "3.13.0"
  }
 },
 "nbformat": 4,
 "nbformat_minor": 5
}
